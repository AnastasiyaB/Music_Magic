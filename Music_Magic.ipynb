{
 "metadata": {
  "name": ""
 },
 "nbformat": 3,
 "nbformat_minor": 0,
 "worksheets": [
  {
   "cells": [
    {
     "cell_type": "markdown",
     "metadata": {},
     "source": [
      "# Music Magic - CS109 Final Project"
     ]
    },
    {
     "cell_type": "markdown",
     "metadata": {},
     "source": [
      "### Overview and Motivation"
     ]
    },
    {
     "cell_type": "markdown",
     "metadata": {},
     "source": [
      "### Related Work"
     ]
    },
    {
     "cell_type": "markdown",
     "metadata": {},
     "source": [
      "### Initial Questions"
     ]
    },
    {
     "cell_type": "markdown",
     "metadata": {},
     "source": [
      "### Data\n",
      "\n",
      "First, we get our data from the Million Song Dataset.\n"
     ]
    },
    {
     "cell_type": "markdown",
     "metadata": {},
     "source": [
      "#### Instructions on how to set up:\n",
      "\n",
      "Download the \"Million Song Subset\" from...\n",
      "http://static.echonest.com/millionsongsubset_full.tar.gz\n",
      "\n",
      "\n",
      "Extract and place the \"MillionSongSubset\" directory inside your git repo directory (which should be named \"Music_Magic\")\n",
      "\n",
      "\n",
      "Add your basepath below (top of the next cell).\n",
      "\n",
      "My full path to the subset is '/Users/csmiles/Dropbox/Classes/Statistics 121/Music_magic/MillionSongSubset'\n",
      "So my basepath is '/Users/csmiles/Dropbox/Classes/Statistics 121'\n",
      "\n",
      "Comment out the basepaths that aren't yours.\n",
      "\n",
      "Run the code below and start playing around! The code is taken from a tutorial on the Million Song Dataset website, and should give you a good sense of how to use the Python wrapper they provide (it's in the directory '/Music_Magic/MSongsDB/PythonSrc', which I pushed to the repository so you don't need to download it manually). There's examples of how to iterate over all the songs, how to use the \"Additional Files\" (which include SQL databases for quick lookups), etc. Still read over the information about the Million Song Subset on the website if you have time though.\n",
      "\n",
      "#### One last thing: \n",
      "\n",
      "I also tried to push a .gitignore file which should've been added to your 'Music_Magic' repo when you pulled. It's really important to have this, otherwise we might accidentally push the entire Million Song Subset (which is still pretty huge) to the repo. If for some reason you don't get the .gitignore file when you pull, maybe try to download it manually from GitHub (it's also only one line, so you could write it yourself) before you commit and push any changes. Remember that it's a hidden file so it won't appear in the regular file browser!"
     ]
    },
    {
     "cell_type": "code",
     "collapsed": false,
     "input": [
      "# SET YOUR BASEPATH\n",
      "# uncomment as necessary\n",
      "\n",
      "basepath = '/Users/csmiles/Dropbox/Classes/Statistics 121' # Chris\n",
      "#basepath = '/Users/anastasiyaborys/Desktop/cs109/Final_Project' # Anastasiya\n",
      "# basepath = '' # Alex\n",
      "\n",
      "# usual imports\n",
      "import os\n",
      "import sys\n",
      "import time\n",
      "import glob\n",
      "import datetime\n",
      "import sqlite3\n",
      "import numpy as np\n",
      "import matplotlib.pyplot as plt\n",
      "\n",
      "# path to the Million Song Dataset subset\n",
      "msd_subset_path = basepath + '/Music_Magic/MillionSongSubset'\n",
      "msd_subset_data_path = os.path.join(msd_subset_path, 'data')\n",
      "msd_subset_addf_path = os.path.join(msd_subset_path, 'AdditionalFiles')\n",
      "assert os.path.isdir(msd_subset_path), 'wrong path' # sanity check\n",
      "\n",
      "# path to the Million Song Dataset code\n",
      "msd_code_path = basepath + '/Music_Magic/MSongsDB'\n",
      "assert os.path.isdir(msd_code_path), 'wrong path' # sanity check\n",
      "\n",
      "# we add some paths to python so we can import MSD code\n",
      "sys.path.append(os.path.join(msd_code_path, 'PythonSrc'))\n",
      "\n",
      "# imports specific to the MSD\n",
      "import hdf5_getters as GETTERS\n",
      "\n",
      "# the following function simply gives us a nice string for\n",
      "# a time lag in seconds\n",
      "def strtimedelta(starttime,stoptime):\n",
      "    return str(datetime.timedelta(seconds=stoptime-starttime))"
     ],
     "language": "python",
     "metadata": {},
     "outputs": [],
     "prompt_number": 1
    },
    {
     "cell_type": "code",
     "collapsed": false,
     "input": [
      "# we define this very useful function to iterate the files\n",
      "def apply_to_all_files(basedir,func=lambda x: x,ext='.h5'):\n",
      "    \"\"\"\n",
      "    From a base directory, go through all subdirectories,\n",
      "    find all files with the given extension, apply the\n",
      "    given function 'func' to all of them.\n",
      "    If no 'func' is passed, we do nothing except counting.\n",
      "    INPUT\n",
      "       basedir  - base directory of the dataset\n",
      "       func     - function to apply to all filenames\n",
      "       ext      - extension, .h5 by default\n",
      "    RETURN\n",
      "       number of files\n",
      "    \"\"\"\n",
      "    cnt = 0\n",
      "    # iterate over all files in all subdirectories\n",
      "    for root, dirs, files in os.walk(basedir):\n",
      "        files = glob.glob(os.path.join(root,'*'+ext))\n",
      "        \n",
      "        # count files\n",
      "        cnt += len(files)\n",
      "        # apply function to all files\n",
      "        for f in files :\n",
      "            \n",
      "            func(f)       \n",
      "    return cnt\n",
      "\n",
      "\n",
      "# we can now easily count the number of files in the dataset\n",
      "print 'number of song files:',apply_to_all_files(msd_subset_data_path)"
     ],
     "language": "python",
     "metadata": {},
     "outputs": [
      {
       "output_type": "stream",
       "stream": "stdout",
       "text": [
        "number of song files: "
       ]
      },
      {
       "output_type": "stream",
       "stream": "stdout",
       "text": [
        "7432\n"
       ]
      }
     ],
     "prompt_number": 2
    },
    {
     "cell_type": "code",
     "collapsed": false,
     "input": [
      "# let's now get all artist names in a set(). One nice property:\n",
      "# if we enter many times the same artist, only one will be kept.\n",
      "all_artist_names = set()\n",
      "\n",
      "# we define the function to apply to all files\n",
      "def func_to_get_artist_name(filename):\n",
      "    \"\"\"\n",
      "    This function does 3 simple things:\n",
      "    - open the song file\n",
      "    - get artist ID and put it\n",
      "    - close the file\n",
      "    \"\"\"\n",
      "    h5 = GETTERS.open_h5_file_read(filename)\n",
      "    artist_name = GETTERS.get_artist_name(h5)\n",
      "    all_artist_names.add( artist_name )\n",
      "    h5.close()\n",
      "    \n",
      "# let's apply the previous function to all files\n",
      "# we'll also measure how long it takes\n",
      "t1 = time.time()\n",
      "apply_to_all_files(msd_subset_data_path,func=func_to_get_artist_name)\n",
      "t2 = time.time()\n",
      "print 'all artist names extracted in:',strtimedelta(t1,t2)\n",
      "\n",
      "# let's see some of the content of 'all_artist_names'\n",
      "print 'found',len(all_artist_names),'unique artist names'\n",
      "for k in range(5):\n",
      "    print list(all_artist_names)[k]"
     ],
     "language": "python",
     "metadata": {},
     "outputs": [
      {
       "output_type": "stream",
       "stream": "stdout",
       "text": [
        "all artist names extracted in: 0:00:48.017606\n",
        "found 3731 unique artist names\n",
        "Groundhogs\n",
        "Pale Forest\n",
        "The Real Kids\n",
        "JennyAnyKind\n",
        "Spooky Tooth / Mike Harrison\n"
       ]
      }
     ],
     "prompt_number": 3
    },
    {
     "cell_type": "code",
     "collapsed": false,
     "input": [
      "# this is too long, and the work of listing artist names has already\n",
      "# been done. Let's redo the same task using an SQLite database.\n",
      "# We connect to the provided database: track_metadata.db\n",
      "conn = sqlite3.connect(os.path.join(msd_subset_addf_path,\n",
      "                                    'subset_track_metadata.db'))\n",
      "# we build the SQL query\n",
      "q = \"SELECT DISTINCT artist_name FROM songs\"\n",
      "# we query the database\n",
      "t1 = time.time()\n",
      "res = conn.execute(q)\n",
      "all_artist_names_sqlite = res.fetchall()\n",
      "t2 = time.time()\n",
      "print 'all artist names extracted (SQLite) in:',strtimedelta(t1,t2)\n",
      "# we close the connection to the database\n",
      "conn.close()\n",
      "# let's see some of the content\n",
      "for k in range(5):\n",
      "    print all_artist_names_sqlite[k][0]"
     ],
     "language": "python",
     "metadata": {},
     "outputs": [
      {
       "output_type": "stream",
       "stream": "stdout",
       "text": [
        "all artist names extracted (SQLite) in: 0:00:00.027177\n",
        "!!!\n",
        "(hed) p.e.\n",
        "089 Clique feat. Minnesota Snipe & Skinny Cueball\n",
        "089 Clique feat. Prophet\n",
        "1. Futurologischer Congress\n"
       ]
      }
     ],
     "prompt_number": 4
    },
    {
     "cell_type": "code",
     "collapsed": false,
     "input": [
      "# now, let's find the artist that has the most songs in the dataset\n",
      "# what we want to work with is artist ID, not artist names. Some artists\n",
      "# have many names, usually because the song is \"featuring someone else\"\n",
      "conn = sqlite3.connect(os.path.join(msd_subset_addf_path,\n",
      "                                    'subset_track_metadata.db'))\n",
      "q = \"SELECT DISTINCT artist_id FROM songs\"\n",
      "res = conn.execute(q)\n",
      "all_artist_ids = map(lambda x: x[0], res.fetchall())\n",
      "conn.close()\n",
      "\n",
      "# The Echo Nest artist id look like:\n",
      "for k in range(4):\n",
      "    print all_artist_ids[k]\n",
      "    \n",
      "# let's count the songs from each of these artists.\n",
      "# We will do it first by iterating over the dataset.\n",
      "# we prepare a dictionary to count files\n",
      "files_per_artist = {}\n",
      "for aid in all_artist_ids:\n",
      "    files_per_artist[aid] = 0\n",
      "\n",
      "# we prepare the function to check artist id in each file\n",
      "def func_to_count_artist_id(filename):\n",
      "    \"\"\"\n",
      "    This function does 3 simple things:\n",
      "    - open the song file\n",
      "    - get artist ID and put it\n",
      "    - close the file\n",
      "    \"\"\"\n",
      "    h5 = GETTERS.open_h5_file_read(filename)\n",
      "    artist_id = GETTERS.get_artist_id(h5)\n",
      "    files_per_artist[artist_id] += 1\n",
      "    h5.close()\n",
      "\n",
      "# we apply this function to all files\n",
      "apply_to_all_files(msd_subset_data_path,func=func_to_count_artist_id)\n",
      "\n",
      "# the most popular artist (with the most songs) is:\n",
      "most_pop_aid = sorted(files_per_artist,\n",
      "                      key=files_per_artist.__getitem__,\n",
      "                      reverse=True)[0]\n",
      "print most_pop_aid,'has',files_per_artist[most_pop_aid],'songs.'\n",
      "\n",
      "# of course, it is more fun to have the name(s) of this artist\n",
      "# let's get it using SQLite\n",
      "conn = sqlite3.connect(os.path.join(msd_subset_addf_path,\n",
      "                                    'subset_track_metadata.db'))\n",
      "q = \"SELECT DISTINCT artist_name FROM songs\"\n",
      "q += \" WHERE artist_id='\"+most_pop_aid+\"'\"\n",
      "res = conn.execute(q)\n",
      "pop_artist_names = map(lambda x: x[0], res.fetchall())\n",
      "conn.close()\n",
      "print 'SQL query:',q\n",
      "print 'name(s) of the most popular artist:',pop_artist_names"
     ],
     "language": "python",
     "metadata": {},
     "outputs": [
      {
       "ename": "KeyboardInterrupt",
       "evalue": "",
       "output_type": "pyerr",
       "traceback": [
        "\u001b[0;31m---------------------------------------------------------------------------\u001b[0m\n\u001b[0;31mKeyboardInterrupt\u001b[0m                         Traceback (most recent call last)",
        "\u001b[0;32m<ipython-input-5-b29554da6392>\u001b[0m in \u001b[0;36m<module>\u001b[0;34m()\u001b[0m\n\u001b[1;32m     34\u001b[0m \u001b[0;34m\u001b[0m\u001b[0m\n\u001b[1;32m     35\u001b[0m \u001b[0;31m# we apply this function to all files\u001b[0m\u001b[0;34m\u001b[0m\u001b[0;34m\u001b[0m\u001b[0m\n\u001b[0;32m---> 36\u001b[0;31m \u001b[0mapply_to_all_files\u001b[0m\u001b[0;34m(\u001b[0m\u001b[0mmsd_subset_data_path\u001b[0m\u001b[0;34m,\u001b[0m\u001b[0mfunc\u001b[0m\u001b[0;34m=\u001b[0m\u001b[0mfunc_to_count_artist_id\u001b[0m\u001b[0;34m)\u001b[0m\u001b[0;34m\u001b[0m\u001b[0m\n\u001b[0m\u001b[1;32m     37\u001b[0m \u001b[0;34m\u001b[0m\u001b[0m\n\u001b[1;32m     38\u001b[0m \u001b[0;31m# the most popular artist (with the most songs) is:\u001b[0m\u001b[0;34m\u001b[0m\u001b[0;34m\u001b[0m\u001b[0m\n",
        "\u001b[0;32m<ipython-input-2-191b595256b0>\u001b[0m in \u001b[0;36mapply_to_all_files\u001b[0;34m(basedir, func, ext)\u001b[0m\n\u001b[1;32m     23\u001b[0m         \u001b[0;32mfor\u001b[0m \u001b[0mf\u001b[0m \u001b[0;32min\u001b[0m \u001b[0mfiles\u001b[0m \u001b[0;34m:\u001b[0m\u001b[0;34m\u001b[0m\u001b[0m\n\u001b[1;32m     24\u001b[0m \u001b[0;34m\u001b[0m\u001b[0m\n\u001b[0;32m---> 25\u001b[0;31m             \u001b[0mfunc\u001b[0m\u001b[0;34m(\u001b[0m\u001b[0mf\u001b[0m\u001b[0;34m)\u001b[0m\u001b[0;34m\u001b[0m\u001b[0m\n\u001b[0m\u001b[1;32m     26\u001b[0m     \u001b[0;32mreturn\u001b[0m \u001b[0mcnt\u001b[0m\u001b[0;34m\u001b[0m\u001b[0m\n\u001b[1;32m     27\u001b[0m \u001b[0;34m\u001b[0m\u001b[0m\n",
        "\u001b[0;32m<ipython-input-5-b29554da6392>\u001b[0m in \u001b[0;36mfunc_to_count_artist_id\u001b[0;34m(filename)\u001b[0m\n\u001b[1;32m     29\u001b[0m     \"\"\"\n\u001b[1;32m     30\u001b[0m     \u001b[0mh5\u001b[0m \u001b[0;34m=\u001b[0m \u001b[0mGETTERS\u001b[0m\u001b[0;34m.\u001b[0m\u001b[0mopen_h5_file_read\u001b[0m\u001b[0;34m(\u001b[0m\u001b[0mfilename\u001b[0m\u001b[0;34m)\u001b[0m\u001b[0;34m\u001b[0m\u001b[0m\n\u001b[0;32m---> 31\u001b[0;31m     \u001b[0martist_id\u001b[0m \u001b[0;34m=\u001b[0m \u001b[0mGETTERS\u001b[0m\u001b[0;34m.\u001b[0m\u001b[0mget_artist_id\u001b[0m\u001b[0;34m(\u001b[0m\u001b[0mh5\u001b[0m\u001b[0;34m)\u001b[0m\u001b[0;34m\u001b[0m\u001b[0m\n\u001b[0m\u001b[1;32m     32\u001b[0m     \u001b[0mfiles_per_artist\u001b[0m\u001b[0;34m[\u001b[0m\u001b[0martist_id\u001b[0m\u001b[0;34m]\u001b[0m \u001b[0;34m+=\u001b[0m \u001b[0;36m1\u001b[0m\u001b[0;34m\u001b[0m\u001b[0m\n\u001b[1;32m     33\u001b[0m     \u001b[0mh5\u001b[0m\u001b[0;34m.\u001b[0m\u001b[0mclose\u001b[0m\u001b[0;34m(\u001b[0m\u001b[0;34m)\u001b[0m\u001b[0;34m\u001b[0m\u001b[0m\n",
        "\u001b[0;32m/Users/csmiles/Dropbox/Classes/Statistics 121/Music_Magic/MSongsDB/PythonSrc/hdf5_getters.pyc\u001b[0m in \u001b[0;36mget_artist_id\u001b[0;34m(h5, songidx)\u001b[0m\n\u001b[1;32m     63\u001b[0m     \u001b[0mGet\u001b[0m \u001b[0martist\u001b[0m \u001b[0mid\u001b[0m \u001b[0;32mfrom\u001b[0m \u001b[0ma\u001b[0m \u001b[0mHDF5\u001b[0m \u001b[0msong\u001b[0m \u001b[0mfile\u001b[0m\u001b[0;34m,\u001b[0m \u001b[0mby\u001b[0m \u001b[0mdefault\u001b[0m \u001b[0mthe\u001b[0m \u001b[0mfirst\u001b[0m \u001b[0msong\u001b[0m \u001b[0;32min\u001b[0m \u001b[0mit\u001b[0m\u001b[0;34m\u001b[0m\u001b[0m\n\u001b[1;32m     64\u001b[0m     \"\"\"\n\u001b[0;32m---> 65\u001b[0;31m     \u001b[0;32mreturn\u001b[0m \u001b[0mh5\u001b[0m\u001b[0;34m.\u001b[0m\u001b[0mroot\u001b[0m\u001b[0;34m.\u001b[0m\u001b[0mmetadata\u001b[0m\u001b[0;34m.\u001b[0m\u001b[0msongs\u001b[0m\u001b[0;34m.\u001b[0m\u001b[0mcols\u001b[0m\u001b[0;34m.\u001b[0m\u001b[0martist_id\u001b[0m\u001b[0;34m[\u001b[0m\u001b[0msongidx\u001b[0m\u001b[0;34m]\u001b[0m\u001b[0;34m\u001b[0m\u001b[0m\n\u001b[0m\u001b[1;32m     66\u001b[0m \u001b[0;34m\u001b[0m\u001b[0m\n\u001b[1;32m     67\u001b[0m \u001b[0;32mdef\u001b[0m \u001b[0mget_artist_mbid\u001b[0m\u001b[0;34m(\u001b[0m\u001b[0mh5\u001b[0m\u001b[0;34m,\u001b[0m\u001b[0msongidx\u001b[0m\u001b[0;34m=\u001b[0m\u001b[0;36m0\u001b[0m\u001b[0;34m)\u001b[0m\u001b[0;34m:\u001b[0m\u001b[0;34m\u001b[0m\u001b[0m\n",
        "\u001b[0;32m/Users/csmiles/anaconda/python.app/Contents/lib/python2.7/site-packages/tables/group.pyc\u001b[0m in \u001b[0;36m__getattr__\u001b[0;34m(self, name)\u001b[0m\n\u001b[1;32m    758\u001b[0m             \u001b[0mself\u001b[0m\u001b[0;34m.\u001b[0m\u001b[0m_g_addChildrenNames\u001b[0m\u001b[0;34m(\u001b[0m\u001b[0;34m)\u001b[0m\u001b[0;34m\u001b[0m\u001b[0m\n\u001b[1;32m    759\u001b[0m             \u001b[0;32mreturn\u001b[0m \u001b[0mmyDict\u001b[0m\u001b[0;34m[\u001b[0m\u001b[0mname\u001b[0m\u001b[0;34m]\u001b[0m\u001b[0;34m\u001b[0m\u001b[0m\n\u001b[0;32m--> 760\u001b[0;31m         \u001b[0;32mreturn\u001b[0m \u001b[0mself\u001b[0m\u001b[0;34m.\u001b[0m\u001b[0m_f_getChild\u001b[0m\u001b[0;34m(\u001b[0m\u001b[0mname\u001b[0m\u001b[0;34m)\u001b[0m\u001b[0;34m\u001b[0m\u001b[0m\n\u001b[0m\u001b[1;32m    761\u001b[0m \u001b[0;34m\u001b[0m\u001b[0m\n\u001b[1;32m    762\u001b[0m \u001b[0;34m\u001b[0m\u001b[0m\n",
        "\u001b[0;32m/Users/csmiles/anaconda/python.app/Contents/lib/python2.7/site-packages/tables/group.pyc\u001b[0m in \u001b[0;36m_f_getChild\u001b[0;34m(self, childname)\u001b[0m\n\u001b[1;32m    640\u001b[0m \u001b[0;34m\u001b[0m\u001b[0m\n\u001b[1;32m    641\u001b[0m         \u001b[0mchildPath\u001b[0m \u001b[0;34m=\u001b[0m \u001b[0mjoinPath\u001b[0m\u001b[0;34m(\u001b[0m\u001b[0mself\u001b[0m\u001b[0;34m.\u001b[0m\u001b[0m_v_pathname\u001b[0m\u001b[0;34m,\u001b[0m \u001b[0mchildname\u001b[0m\u001b[0;34m)\u001b[0m\u001b[0;34m\u001b[0m\u001b[0m\n\u001b[0;32m--> 642\u001b[0;31m         \u001b[0;32mreturn\u001b[0m \u001b[0mself\u001b[0m\u001b[0;34m.\u001b[0m\u001b[0m_v_file\u001b[0m\u001b[0;34m.\u001b[0m\u001b[0m_getNode\u001b[0m\u001b[0;34m(\u001b[0m\u001b[0mchildPath\u001b[0m\u001b[0;34m)\u001b[0m\u001b[0;34m\u001b[0m\u001b[0m\n\u001b[0m\u001b[1;32m    643\u001b[0m \u001b[0;34m\u001b[0m\u001b[0m\n\u001b[1;32m    644\u001b[0m \u001b[0;34m\u001b[0m\u001b[0m\n",
        "\u001b[0;32m/Users/csmiles/anaconda/python.app/Contents/lib/python2.7/site-packages/tables/file.pyc\u001b[0m in \u001b[0;36m_getNode\u001b[0;34m(self, nodePath)\u001b[0m\n\u001b[1;32m   1055\u001b[0m         \u001b[0;31m# The node has not been found in alive or dead nodes.\u001b[0m\u001b[0;34m\u001b[0m\u001b[0;34m\u001b[0m\u001b[0m\n\u001b[1;32m   1056\u001b[0m         \u001b[0;31m# Open it directly from disk.\u001b[0m\u001b[0;34m\u001b[0m\u001b[0;34m\u001b[0m\u001b[0m\n\u001b[0;32m-> 1057\u001b[0;31m         \u001b[0mnode\u001b[0m \u001b[0;34m=\u001b[0m \u001b[0mself\u001b[0m\u001b[0;34m.\u001b[0m\u001b[0mroot\u001b[0m\u001b[0;34m.\u001b[0m\u001b[0m_g_loadChild\u001b[0m\u001b[0;34m(\u001b[0m\u001b[0mnodePath\u001b[0m\u001b[0;34m)\u001b[0m\u001b[0;34m\u001b[0m\u001b[0m\n\u001b[0m\u001b[1;32m   1058\u001b[0m         \u001b[0;32mreturn\u001b[0m \u001b[0mnode\u001b[0m\u001b[0;34m\u001b[0m\u001b[0m\n\u001b[1;32m   1059\u001b[0m \u001b[0;34m\u001b[0m\u001b[0m\n",
        "\u001b[0;32m/Users/csmiles/anaconda/python.app/Contents/lib/python2.7/site-packages/tables/group.pyc\u001b[0m in \u001b[0;36m_g_loadChild\u001b[0;34m(self, childName)\u001b[0m\n\u001b[1;32m   1134\u001b[0m             \u001b[0;31m###return childClass(self, childName)  # uncomment for debugging\u001b[0m\u001b[0;34m\u001b[0m\u001b[0;34m\u001b[0m\u001b[0m\n\u001b[1;32m   1135\u001b[0m             \u001b[0;32mtry\u001b[0m\u001b[0;34m:\u001b[0m\u001b[0;34m\u001b[0m\u001b[0m\n\u001b[0;32m-> 1136\u001b[0;31m                 \u001b[0;32mreturn\u001b[0m \u001b[0mchildClass\u001b[0m\u001b[0;34m(\u001b[0m\u001b[0mself\u001b[0m\u001b[0;34m,\u001b[0m \u001b[0mchildName\u001b[0m\u001b[0;34m)\u001b[0m\u001b[0;34m\u001b[0m\u001b[0m\n\u001b[0m\u001b[1;32m   1137\u001b[0m             \u001b[0;32mexcept\u001b[0m \u001b[0mException\u001b[0m\u001b[0;34m,\u001b[0m \u001b[0mexc\u001b[0m\u001b[0;34m:\u001b[0m  \u001b[0;31m#XXX\u001b[0m\u001b[0;34m\u001b[0m\u001b[0m\n\u001b[1;32m   1138\u001b[0m                 warnings.warn(\n",
        "\u001b[0;32m/Users/csmiles/anaconda/python.app/Contents/lib/python2.7/site-packages/tables/table.pyc\u001b[0m in \u001b[0;36m__init__\u001b[0;34m(self, parentNode, name, description, title, filters, expectedrows, chunkshape, byteorder, _log)\u001b[0m\n\u001b[1;32m    801\u001b[0m \u001b[0;34m\u001b[0m\u001b[0m\n\u001b[1;32m    802\u001b[0m         super(Table, self).__init__(parentNode, name, new, filters,\n\u001b[0;32m--> 803\u001b[0;31m                                     byteorder, _log)\n\u001b[0m\u001b[1;32m    804\u001b[0m \u001b[0;34m\u001b[0m\u001b[0m\n\u001b[1;32m    805\u001b[0m \u001b[0;34m\u001b[0m\u001b[0m\n",
        "\u001b[0;32m/Users/csmiles/anaconda/python.app/Contents/lib/python2.7/site-packages/tables/leaf.pyc\u001b[0m in \u001b[0;36m__init__\u001b[0;34m(self, parentNode, name, new, filters, byteorder, _log)\u001b[0m\n\u001b[1;32m    261\u001b[0m         \u001b[0;31m# is a lazy property that automatically handles their loading.\u001b[0m\u001b[0;34m\u001b[0m\u001b[0;34m\u001b[0m\u001b[0m\n\u001b[1;32m    262\u001b[0m \u001b[0;34m\u001b[0m\u001b[0m\n\u001b[0;32m--> 263\u001b[0;31m         \u001b[0msuper\u001b[0m\u001b[0;34m(\u001b[0m\u001b[0mLeaf\u001b[0m\u001b[0;34m,\u001b[0m \u001b[0mself\u001b[0m\u001b[0;34m)\u001b[0m\u001b[0;34m.\u001b[0m\u001b[0m__init__\u001b[0m\u001b[0;34m(\u001b[0m\u001b[0mparentNode\u001b[0m\u001b[0;34m,\u001b[0m \u001b[0mname\u001b[0m\u001b[0;34m,\u001b[0m \u001b[0m_log\u001b[0m\u001b[0;34m)\u001b[0m\u001b[0;34m\u001b[0m\u001b[0m\n\u001b[0m\u001b[1;32m    264\u001b[0m \u001b[0;34m\u001b[0m\u001b[0m\n\u001b[1;32m    265\u001b[0m \u001b[0;34m\u001b[0m\u001b[0m\n",
        "\u001b[0;32m/Users/csmiles/anaconda/python.app/Contents/lib/python2.7/site-packages/tables/node.pyc\u001b[0m in \u001b[0;36m__init__\u001b[0;34m(self, parentNode, name, _log)\u001b[0m\n\u001b[1;32m    250\u001b[0m                 \u001b[0mself\u001b[0m\u001b[0;34m.\u001b[0m\u001b[0m_v_objectID\u001b[0m \u001b[0;34m=\u001b[0m \u001b[0mself\u001b[0m\u001b[0;34m.\u001b[0m\u001b[0m_g_create\u001b[0m\u001b[0;34m(\u001b[0m\u001b[0;34m)\u001b[0m\u001b[0;34m\u001b[0m\u001b[0m\n\u001b[1;32m    251\u001b[0m             \u001b[0;32melse\u001b[0m\u001b[0;34m:\u001b[0m\u001b[0;34m\u001b[0m\u001b[0m\n\u001b[0;32m--> 252\u001b[0;31m                 \u001b[0mself\u001b[0m\u001b[0;34m.\u001b[0m\u001b[0m_v_objectID\u001b[0m \u001b[0;34m=\u001b[0m \u001b[0mself\u001b[0m\u001b[0;34m.\u001b[0m\u001b[0m_g_open\u001b[0m\u001b[0;34m(\u001b[0m\u001b[0;34m)\u001b[0m\u001b[0;34m\u001b[0m\u001b[0m\n\u001b[0m\u001b[1;32m    253\u001b[0m \u001b[0;34m\u001b[0m\u001b[0m\n\u001b[1;32m    254\u001b[0m             \u001b[0;31m# The node *has* been created, log that.\u001b[0m\u001b[0;34m\u001b[0m\u001b[0;34m\u001b[0m\u001b[0m\n",
        "\u001b[0;32m/Users/csmiles/anaconda/python.app/Contents/lib/python2.7/site-packages/tables/table.pyc\u001b[0m in \u001b[0;36m_g_open\u001b[0;34m(self)\u001b[0m\n\u001b[1;32m    997\u001b[0m         \u001b[0;31m#    set them in the table description.\u001b[0m\u001b[0;34m\u001b[0m\u001b[0;34m\u001b[0m\u001b[0m\n\u001b[1;32m    998\u001b[0m         \u001b[0;32mif\u001b[0m \u001b[0mself\u001b[0m\u001b[0;34m.\u001b[0m\u001b[0m_v_file\u001b[0m\u001b[0;34m.\u001b[0m\u001b[0mparams\u001b[0m\u001b[0;34m[\u001b[0m\u001b[0;34m'PYTABLES_SYS_ATTRS'\u001b[0m\u001b[0;34m]\u001b[0m\u001b[0;34m:\u001b[0m\u001b[0;34m\u001b[0m\u001b[0m\n\u001b[0;32m--> 999\u001b[0;31m             \u001b[0;32mif\u001b[0m \u001b[0;34m\"FIELD_0_FILL\"\u001b[0m \u001b[0;32min\u001b[0m \u001b[0mself\u001b[0m\u001b[0;34m.\u001b[0m\u001b[0m_v_attrs\u001b[0m\u001b[0;34m.\u001b[0m\u001b[0m_f_list\u001b[0m\u001b[0;34m(\u001b[0m\u001b[0;34m\"sys\"\u001b[0m\u001b[0;34m)\u001b[0m\u001b[0;34m:\u001b[0m\u001b[0;34m\u001b[0m\u001b[0m\n\u001b[0m\u001b[1;32m   1000\u001b[0m                 \u001b[0mi\u001b[0m \u001b[0;34m=\u001b[0m \u001b[0;36m0\u001b[0m\u001b[0;34m\u001b[0m\u001b[0m\n\u001b[1;32m   1001\u001b[0m                 \u001b[0mgetAttr\u001b[0m \u001b[0;34m=\u001b[0m \u001b[0mself\u001b[0m\u001b[0;34m.\u001b[0m\u001b[0m_v_attrs\u001b[0m\u001b[0;34m.\u001b[0m\u001b[0m__getattr__\u001b[0m\u001b[0;34m\u001b[0m\u001b[0m\n",
        "\u001b[0;32m/Users/csmiles/anaconda/python.app/Contents/lib/python2.7/site-packages/tables/utils.pyc\u001b[0m in \u001b[0;36mnewfget\u001b[0;34m(self)\u001b[0m\n\u001b[1;32m    222\u001b[0m         \u001b[0;32mif\u001b[0m \u001b[0mname\u001b[0m \u001b[0;32min\u001b[0m \u001b[0mmydict\u001b[0m\u001b[0;34m:\u001b[0m\u001b[0;34m\u001b[0m\u001b[0m\n\u001b[1;32m    223\u001b[0m             \u001b[0;32mreturn\u001b[0m \u001b[0mmydict\u001b[0m\u001b[0;34m[\u001b[0m\u001b[0mname\u001b[0m\u001b[0;34m]\u001b[0m\u001b[0;34m\u001b[0m\u001b[0m\n\u001b[0;32m--> 224\u001b[0;31m         \u001b[0mmydict\u001b[0m\u001b[0;34m[\u001b[0m\u001b[0mname\u001b[0m\u001b[0;34m]\u001b[0m \u001b[0;34m=\u001b[0m \u001b[0mvalue\u001b[0m \u001b[0;34m=\u001b[0m \u001b[0mfget\u001b[0m\u001b[0;34m(\u001b[0m\u001b[0mself\u001b[0m\u001b[0;34m)\u001b[0m\u001b[0;34m\u001b[0m\u001b[0m\n\u001b[0m\u001b[1;32m    225\u001b[0m         \u001b[0;32mreturn\u001b[0m \u001b[0mvalue\u001b[0m\u001b[0;34m\u001b[0m\u001b[0m\n\u001b[1;32m    226\u001b[0m     \u001b[0;32mreturn\u001b[0m \u001b[0mproperty\u001b[0m\u001b[0;34m(\u001b[0m\u001b[0mnewfget\u001b[0m\u001b[0;34m,\u001b[0m \u001b[0mNone\u001b[0m\u001b[0;34m,\u001b[0m \u001b[0mNone\u001b[0m\u001b[0;34m,\u001b[0m \u001b[0mfget\u001b[0m\u001b[0;34m.\u001b[0m\u001b[0m__doc__\u001b[0m\u001b[0;34m)\u001b[0m\u001b[0;34m\u001b[0m\u001b[0m\n",
        "\u001b[0;32m/Users/csmiles/anaconda/python.app/Contents/lib/python2.7/site-packages/tables/node.pyc\u001b[0m in \u001b[0;36m_v_attrs\u001b[0;34m(self)\u001b[0m\n\u001b[1;32m    175\u001b[0m         \"\"\"\n\u001b[1;32m    176\u001b[0m \u001b[0;34m\u001b[0m\u001b[0m\n\u001b[0;32m--> 177\u001b[0;31m         \u001b[0;32mreturn\u001b[0m \u001b[0mself\u001b[0m\u001b[0;34m.\u001b[0m\u001b[0m_AttributeSet\u001b[0m\u001b[0;34m(\u001b[0m\u001b[0mself\u001b[0m\u001b[0;34m)\u001b[0m\u001b[0;34m\u001b[0m\u001b[0m\n\u001b[0m\u001b[1;32m    178\u001b[0m \u001b[0;34m\u001b[0m\u001b[0m\n\u001b[1;32m    179\u001b[0m \u001b[0;34m\u001b[0m\u001b[0m\n",
        "\u001b[0;32m/Users/csmiles/anaconda/python.app/Contents/lib/python2.7/site-packages/tables/attributeset.pyc\u001b[0m in \u001b[0;36m__init__\u001b[0;34m(self, node)\u001b[0m\n\u001b[1;32m    239\u001b[0m             \u001b[0;31m# put the attributes on the local dictionary to allow\u001b[0m\u001b[0;34m\u001b[0m\u001b[0;34m\u001b[0m\u001b[0m\n\u001b[1;32m    240\u001b[0m             \u001b[0;31m# tab-completion\u001b[0m\u001b[0;34m\u001b[0m\u001b[0;34m\u001b[0m\u001b[0m\n\u001b[0;32m--> 241\u001b[0;31m             \u001b[0mself\u001b[0m\u001b[0;34m.\u001b[0m\u001b[0m__getattr__\u001b[0m\u001b[0;34m(\u001b[0m\u001b[0mattr\u001b[0m\u001b[0;34m)\u001b[0m\u001b[0;34m\u001b[0m\u001b[0m\n\u001b[0m\u001b[1;32m    242\u001b[0m             \u001b[0;32mif\u001b[0m \u001b[0missysattrname\u001b[0m\u001b[0;34m(\u001b[0m\u001b[0mattr\u001b[0m\u001b[0;34m)\u001b[0m\u001b[0;34m:\u001b[0m\u001b[0;34m\u001b[0m\u001b[0m\n\u001b[1;32m    243\u001b[0m                 \u001b[0mself\u001b[0m\u001b[0;34m.\u001b[0m\u001b[0m_v_attrnamessys\u001b[0m\u001b[0;34m.\u001b[0m\u001b[0mappend\u001b[0m\u001b[0;34m(\u001b[0m\u001b[0mattr\u001b[0m\u001b[0;34m)\u001b[0m\u001b[0;34m\u001b[0m\u001b[0m\n",
        "\u001b[0;32m/Users/csmiles/anaconda/python.app/Contents/lib/python2.7/site-packages/tables/attributeset.pyc\u001b[0m in \u001b[0;36m__getattr__\u001b[0;34m(self, name)\u001b[0m\n\u001b[1;32m    282\u001b[0m \u001b[0;34m\u001b[0m\u001b[0m\n\u001b[1;32m    283\u001b[0m         \u001b[0;31m# If attribute does not exist, raise AttributeError\u001b[0m\u001b[0;34m\u001b[0m\u001b[0;34m\u001b[0m\u001b[0m\n\u001b[0;32m--> 284\u001b[0;31m         \u001b[0;32mif\u001b[0m \u001b[0;32mnot\u001b[0m \u001b[0mname\u001b[0m \u001b[0;32min\u001b[0m \u001b[0mself\u001b[0m\u001b[0;34m.\u001b[0m\u001b[0m_v_attrnames\u001b[0m\u001b[0;34m:\u001b[0m\u001b[0;34m\u001b[0m\u001b[0m\n\u001b[0m\u001b[1;32m    285\u001b[0m             raise AttributeError(\"Attribute '%s' does not exist in node: \"\n\u001b[1;32m    286\u001b[0m                                  \"'%s'\" % (name, self._v__nodePath))\n",
        "\u001b[0;31mKeyboardInterrupt\u001b[0m: "
       ]
      },
      {
       "output_type": "stream",
       "stream": "stdout",
       "text": [
        "AR009211187B989185\n",
        "AR00A6H1187FB5402A\n",
        "AR00LNI1187FB444A5\n",
        "AR00MBZ1187B9B5DB1\n"
       ]
      }
     ],
     "prompt_number": 5
    },
    {
     "cell_type": "code",
     "collapsed": false,
     "input": [
      "# let's redo all this work in SQLite in a few seconds\n",
      "t1 = time.time()\n",
      "conn = sqlite3.connect(os.path.join(msd_subset_addf_path,\n",
      "                                    'subset_track_metadata.db'))\n",
      "q = \"SELECT DISTINCT artist_id,artist_name,Count(track_id) FROM songs\"\n",
      "q += \" GROUP BY artist_id\"\n",
      "res = conn.execute(q)\n",
      "pop_artists = res.fetchall()\n",
      "conn.close()\n",
      "t2 = time.time()\n",
      "print 'found most popular artist in',strtimedelta(t1,t2)\n",
      "print sorted(pop_artists,key=lambda x:x[2],reverse=True)[0]"
     ],
     "language": "python",
     "metadata": {},
     "outputs": []
    },
    {
     "cell_type": "heading",
     "level": 3,
     "metadata": {},
     "source": [
      "Lets first do some exploratory analysis:"
     ]
    },
    {
     "cell_type": "markdown",
     "metadata": {},
     "source": [
      "We have a subset of 10,000 sounds so we are going to visualize the following components:"
     ]
    },
    {
     "cell_type": "code",
     "collapsed": false,
     "input": [
      "# same thing by year\n",
      "all_song_years = []\n",
      "# we define the function to apply to all files\n",
      "\n",
      "def func_to_get_song_year(filename):\n",
      "    \"\"\"\n",
      "    This function does 3 simple things:\n",
      "    - open the song file\n",
      "    - get year of the song\n",
      "    - close the file\n",
      "    \"\"\"\n",
      "    h5 = GETTERS.open_h5_file_read(filename)\n",
      "    song_year = GETTERS.get_year(h5)\n",
      "    if (song_year == 0):\n",
      "        pass\n",
      "    else:\n",
      "        all_song_years.append(song_year)\n",
      "    \n",
      "    h5.close()\n",
      "\n",
      "\n",
      "print 'gathering year data...',apply_to_all_files(msd_subset_data_path, func=func_to_get_song_year)"
     ],
     "language": "python",
     "metadata": {},
     "outputs": [
      {
       "output_type": "stream",
       "stream": "stdout",
       "text": [
        "gathering year data... "
       ]
      },
      {
       "output_type": "stream",
       "stream": "stdout",
       "text": [
        "7432\n"
       ]
      }
     ],
     "prompt_number": 7
    },
    {
     "cell_type": "code",
     "collapsed": false,
     "input": [
      "# 17 buckets for 5 year intervals 1925-2010\n",
      "my_list = [[] for i in range(17)] \n",
      "\n",
      "def insert_into_bucket(val):\n",
      "    index = int(math.floor((val - 1925) / 5)) - 1\n",
      "    my_list[index].append(val)\n",
      "    \n",
      "map(lambda x: insert_into_bucket(x), all_song_years)"
     ],
     "language": "python",
     "metadata": {},
     "outputs": [
      {
       "ename": "NameError",
       "evalue": "global name 'math' is not defined",
       "output_type": "pyerr",
       "traceback": [
        "\u001b[0;31m---------------------------------------------------------------------------\u001b[0m\n\u001b[0;31mNameError\u001b[0m                                 Traceback (most recent call last)",
        "\u001b[0;32m<ipython-input-8-aadf3da60f6b>\u001b[0m in \u001b[0;36m<module>\u001b[0;34m()\u001b[0m\n\u001b[1;32m      6\u001b[0m     \u001b[0mmy_list\u001b[0m\u001b[0;34m[\u001b[0m\u001b[0mindex\u001b[0m\u001b[0;34m]\u001b[0m\u001b[0;34m.\u001b[0m\u001b[0mappend\u001b[0m\u001b[0;34m(\u001b[0m\u001b[0mval\u001b[0m\u001b[0;34m)\u001b[0m\u001b[0;34m\u001b[0m\u001b[0m\n\u001b[1;32m      7\u001b[0m \u001b[0;34m\u001b[0m\u001b[0m\n\u001b[0;32m----> 8\u001b[0;31m \u001b[0mmap\u001b[0m\u001b[0;34m(\u001b[0m\u001b[0;32mlambda\u001b[0m \u001b[0mx\u001b[0m\u001b[0;34m:\u001b[0m \u001b[0minsert_into_bucket\u001b[0m\u001b[0;34m(\u001b[0m\u001b[0mx\u001b[0m\u001b[0;34m)\u001b[0m\u001b[0;34m,\u001b[0m \u001b[0mall_song_years\u001b[0m\u001b[0;34m)\u001b[0m\u001b[0;34m\u001b[0m\u001b[0m\n\u001b[0m",
        "\u001b[0;32m<ipython-input-8-aadf3da60f6b>\u001b[0m in \u001b[0;36m<lambda>\u001b[0;34m(x)\u001b[0m\n\u001b[1;32m      6\u001b[0m     \u001b[0mmy_list\u001b[0m\u001b[0;34m[\u001b[0m\u001b[0mindex\u001b[0m\u001b[0;34m]\u001b[0m\u001b[0;34m.\u001b[0m\u001b[0mappend\u001b[0m\u001b[0;34m(\u001b[0m\u001b[0mval\u001b[0m\u001b[0;34m)\u001b[0m\u001b[0;34m\u001b[0m\u001b[0m\n\u001b[1;32m      7\u001b[0m \u001b[0;34m\u001b[0m\u001b[0m\n\u001b[0;32m----> 8\u001b[0;31m \u001b[0mmap\u001b[0m\u001b[0;34m(\u001b[0m\u001b[0;32mlambda\u001b[0m \u001b[0mx\u001b[0m\u001b[0;34m:\u001b[0m \u001b[0minsert_into_bucket\u001b[0m\u001b[0;34m(\u001b[0m\u001b[0mx\u001b[0m\u001b[0;34m)\u001b[0m\u001b[0;34m,\u001b[0m \u001b[0mall_song_years\u001b[0m\u001b[0;34m)\u001b[0m\u001b[0;34m\u001b[0m\u001b[0m\n\u001b[0m",
        "\u001b[0;32m<ipython-input-8-aadf3da60f6b>\u001b[0m in \u001b[0;36minsert_into_bucket\u001b[0;34m(val)\u001b[0m\n\u001b[1;32m      3\u001b[0m \u001b[0;34m\u001b[0m\u001b[0m\n\u001b[1;32m      4\u001b[0m \u001b[0;32mdef\u001b[0m \u001b[0minsert_into_bucket\u001b[0m\u001b[0;34m(\u001b[0m\u001b[0mval\u001b[0m\u001b[0;34m)\u001b[0m\u001b[0;34m:\u001b[0m\u001b[0;34m\u001b[0m\u001b[0m\n\u001b[0;32m----> 5\u001b[0;31m     \u001b[0mindex\u001b[0m \u001b[0;34m=\u001b[0m \u001b[0mint\u001b[0m\u001b[0;34m(\u001b[0m\u001b[0mmath\u001b[0m\u001b[0;34m.\u001b[0m\u001b[0mfloor\u001b[0m\u001b[0;34m(\u001b[0m\u001b[0;34m(\u001b[0m\u001b[0mval\u001b[0m \u001b[0;34m-\u001b[0m \u001b[0;36m1925\u001b[0m\u001b[0;34m)\u001b[0m \u001b[0;34m/\u001b[0m \u001b[0;36m5\u001b[0m\u001b[0;34m)\u001b[0m\u001b[0;34m)\u001b[0m \u001b[0;34m-\u001b[0m \u001b[0;36m1\u001b[0m\u001b[0;34m\u001b[0m\u001b[0m\n\u001b[0m\u001b[1;32m      6\u001b[0m     \u001b[0mmy_list\u001b[0m\u001b[0;34m[\u001b[0m\u001b[0mindex\u001b[0m\u001b[0;34m]\u001b[0m\u001b[0;34m.\u001b[0m\u001b[0mappend\u001b[0m\u001b[0;34m(\u001b[0m\u001b[0mval\u001b[0m\u001b[0;34m)\u001b[0m\u001b[0;34m\u001b[0m\u001b[0m\n\u001b[1;32m      7\u001b[0m \u001b[0;34m\u001b[0m\u001b[0m\n",
        "\u001b[0;31mNameError\u001b[0m: global name 'math' is not defined"
       ]
      }
     ],
     "prompt_number": 8
    },
    {
     "cell_type": "code",
     "collapsed": false,
     "input": [
      "lengths = map(lambda x: len(x), my_list)\n",
      "\n",
      "plt.figure(figsize=(18,6), dpi=80)\n",
      "X = np.arange(len(lengths)) * 5\n",
      "plt.bar(X,lengths,width = 17) \n",
      "xticks_locs, xticks_labels = plt.xticks(X, lengths)\n",
      "plt.autoscale()\n",
      "plt.show() # make sure the bar graph is displaying properly\n",
      "\n",
      "## here we can see that there are more songs from more recent years than there are older songs"
     ],
     "language": "python",
     "metadata": {},
     "outputs": [],
     "prompt_number": 72
    },
    {
     "cell_type": "code",
     "collapsed": false,
     "input": [
      "# lets try to get this information into a dataframe so its easier to analyze\n",
      "import pandas as pd\n",
      "\n",
      "# same thing by year\n",
      "data_df = pd.DataFrame(columns=('Title','Song_Hotness','Danceability','Duration', 'Loudness', 'Year', 'Artist_Name', 'Artist_location', 'Artist_Hotness', 'Similar_Artists'))\n",
      "print 'dataframe created' , data_df\n",
      "\n",
      "def get_h5_info(filename):\n",
      "    h5 = GETTERS.open_h5_file_read(filename)\n",
      "    \n",
      "    ### get all the information we need to get\n",
      "    song_year = GETTERS.get_year(h5)\n",
      "    if (song_year == 0):\n",
      "        pass\n",
      "    else:\n",
      "        all_song_years.append(song_year)\n",
      "        \n",
      "    ## all the information that we want to append  \n",
      "    \n",
      "    # song information\n",
      "    song_id = GETTERS.get_song_id(h5) # order the information by song\n",
      "    song_title = GETTERS.get_title(h5)\n",
      "    song_hotness = GETTERS.get_song_hotttnesss(h5)\n",
      "    song_dancability = GETTERS.get_danceability(h5)\n",
      "    song_duration = GETTERS.get_duration(h5)\n",
      "    song_loudness = GETTERS.get_loudness(h5)\n",
      "    song_year = GETTERS.get_year(h5)\n",
      "   \n",
      "    # artist information\n",
      "    artist_name = GETTERS.get_artist_name(h5)\n",
      "    artist_location = GETTERS.get_artist_location(h5)\n",
      "    artist_hotness = GETTERS.get_artist_hotttnesss(h5)\n",
      "    similar_artists = GETTERS.get_similar_artists(h5)\n",
      "    \n",
      "    ## 'Title','Song_Hotness','Danceability','Duration', 'Loudness', 'Year', 'Artist_Name', 'Artist_location', 'Artist_Hotness', 'Similar_Artists'))\n",
      "    data_df.append([dict(Title=song_title, Song_Hotness=song_hotness, Danceability=song_dancability, Duration=song_duration, Loudness=song_loudness, Year=song_year, Artist_Name=artist_name, Artist_location=artist_location, Artist_Hotness=artist_hotness, Similar_Artists=similar_artists)], index = song_id)\n",
      "     \n",
      "    ### close the file\n",
      "    h5.close()\n",
      "\n",
      "\n",
      "print 'gathering year data...',apply_to_all_files(msd_subset_data_path, func=get_h5_info)\n"
     ],
     "language": "python",
     "metadata": {},
     "outputs": [
      {
       "ename": "TypeError",
       "evalue": "append() got an unexpected keyword argument 'index'",
       "output_type": "pyerr",
       "traceback": [
        "\u001b[0;31m---------------------------------------------------------------------------\u001b[0m\n\u001b[0;31mTypeError\u001b[0m                                 Traceback (most recent call last)",
        "\u001b[0;32m<ipython-input-89-36a1bde8bbfe>\u001b[0m in \u001b[0;36m<module>\u001b[0;34m()\u001b[0m\n\u001b[1;32m     40\u001b[0m \u001b[0;34m\u001b[0m\u001b[0m\n\u001b[1;32m     41\u001b[0m \u001b[0;34m\u001b[0m\u001b[0m\n\u001b[0;32m---> 42\u001b[0;31m \u001b[0;32mprint\u001b[0m \u001b[0;34m'gathering year data...'\u001b[0m\u001b[0;34m,\u001b[0m\u001b[0mapply_to_all_files\u001b[0m\u001b[0;34m(\u001b[0m\u001b[0mmsd_subset_data_path\u001b[0m\u001b[0;34m,\u001b[0m \u001b[0mfunc\u001b[0m\u001b[0;34m=\u001b[0m\u001b[0mget_h5_info\u001b[0m\u001b[0;34m)\u001b[0m\u001b[0;34m\u001b[0m\u001b[0m\n\u001b[0m",
        "\u001b[0;32m<ipython-input-20-191b595256b0>\u001b[0m in \u001b[0;36mapply_to_all_files\u001b[0;34m(basedir, func, ext)\u001b[0m\n\u001b[1;32m     23\u001b[0m         \u001b[0;32mfor\u001b[0m \u001b[0mf\u001b[0m \u001b[0;32min\u001b[0m \u001b[0mfiles\u001b[0m \u001b[0;34m:\u001b[0m\u001b[0;34m\u001b[0m\u001b[0m\n\u001b[1;32m     24\u001b[0m \u001b[0;34m\u001b[0m\u001b[0m\n\u001b[0;32m---> 25\u001b[0;31m             \u001b[0mfunc\u001b[0m\u001b[0;34m(\u001b[0m\u001b[0mf\u001b[0m\u001b[0;34m)\u001b[0m\u001b[0;34m\u001b[0m\u001b[0m\n\u001b[0m\u001b[1;32m     26\u001b[0m     \u001b[0;32mreturn\u001b[0m \u001b[0mcnt\u001b[0m\u001b[0;34m\u001b[0m\u001b[0m\n\u001b[1;32m     27\u001b[0m \u001b[0;34m\u001b[0m\u001b[0m\n",
        "\u001b[0;32m<ipython-input-89-36a1bde8bbfe>\u001b[0m in \u001b[0;36mget_h5_info\u001b[0;34m(filename)\u001b[0m\n\u001b[1;32m     34\u001b[0m \u001b[0;34m\u001b[0m\u001b[0m\n\u001b[1;32m     35\u001b[0m     \u001b[0;31m## 'Title','Song_Hotness','Danceability','Duration', 'Loudness', 'Year', 'Artist_Name', 'Artist_location', 'Artist_Hotness', 'Similar_Artists'))\u001b[0m\u001b[0;34m\u001b[0m\u001b[0;34m\u001b[0m\u001b[0m\n\u001b[0;32m---> 36\u001b[0;31m     \u001b[0mdata_df\u001b[0m\u001b[0;34m.\u001b[0m\u001b[0mappend\u001b[0m\u001b[0;34m(\u001b[0m\u001b[0;34m[\u001b[0m\u001b[0mdict\u001b[0m\u001b[0;34m(\u001b[0m\u001b[0mTitle\u001b[0m\u001b[0;34m=\u001b[0m\u001b[0msong_title\u001b[0m\u001b[0;34m,\u001b[0m \u001b[0mSong_Hotness\u001b[0m\u001b[0;34m=\u001b[0m\u001b[0msong_hotness\u001b[0m\u001b[0;34m,\u001b[0m \u001b[0mDanceability\u001b[0m\u001b[0;34m=\u001b[0m\u001b[0msong_dancability\u001b[0m\u001b[0;34m,\u001b[0m \u001b[0mDuration\u001b[0m\u001b[0;34m=\u001b[0m\u001b[0msong_duration\u001b[0m\u001b[0;34m,\u001b[0m \u001b[0mLoudness\u001b[0m\u001b[0;34m=\u001b[0m\u001b[0msong_loudness\u001b[0m\u001b[0;34m,\u001b[0m \u001b[0mYear\u001b[0m\u001b[0;34m=\u001b[0m\u001b[0msong_year\u001b[0m\u001b[0;34m,\u001b[0m \u001b[0mArtist_Name\u001b[0m\u001b[0;34m=\u001b[0m\u001b[0martist_name\u001b[0m\u001b[0;34m,\u001b[0m \u001b[0mArtist_location\u001b[0m\u001b[0;34m=\u001b[0m\u001b[0martist_location\u001b[0m\u001b[0;34m,\u001b[0m \u001b[0mArtist_Hotness\u001b[0m\u001b[0;34m=\u001b[0m\u001b[0martist_hotness\u001b[0m\u001b[0;34m,\u001b[0m \u001b[0mSimilar_Artists\u001b[0m\u001b[0;34m=\u001b[0m\u001b[0msimilar_artists\u001b[0m\u001b[0;34m)\u001b[0m\u001b[0;34m]\u001b[0m\u001b[0;34m,\u001b[0m \u001b[0mindex\u001b[0m \u001b[0;34m=\u001b[0m \u001b[0msong_id\u001b[0m\u001b[0;34m)\u001b[0m\u001b[0;34m\u001b[0m\u001b[0m\n\u001b[0m\u001b[1;32m     37\u001b[0m \u001b[0;34m\u001b[0m\u001b[0m\n\u001b[1;32m     38\u001b[0m     \u001b[0;31m### close the file\u001b[0m\u001b[0;34m\u001b[0m\u001b[0;34m\u001b[0m\u001b[0m\n",
        "\u001b[0;31mTypeError\u001b[0m: append() got an unexpected keyword argument 'index'"
       ]
      },
      {
       "output_type": "stream",
       "stream": "stdout",
       "text": [
        " dataframe created Empty DataFrame\n",
        "Columns: [Title, Song_Hotness, Danceability, Duration, Loudness, Year, Artist_Name, Artist_location, Artist_Hotness, Similar_Artists]\n",
        "Index: []\n",
        "gathering year data..."
       ]
      }
     ],
     "prompt_number": 89
    },
    {
     "cell_type": "markdown",
     "metadata": {},
     "source": [
      "---\n",
      "*css tweaks in this cell*\n",
      "<style>\n",
      "div.text_cell_render {\n",
      "    line-height: 150%;\n",
      "    font-size: 110%;\n",
      "    width: 800px;\n",
      "    margin-left:50px;\n",
      "    margin-right:auto;\n",
      "    }\n",
      "</style>"
     ]
    }
   ],
   "metadata": {}
  }
 ]
}